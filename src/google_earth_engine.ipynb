{
 "cells": [
  {
   "cell_type": "markdown",
   "id": "9930d400",
   "metadata": {},
   "source": [
    "## Importação da Biblioteca do Google Earth Engine\n"
   ]
  },
  {
   "cell_type": "code",
   "execution_count": null,
   "id": "e30c37a1",
   "metadata": {},
   "outputs": [],
   "source": [
    "import ee \n",
    "\n",
    "ee.Authenticate()   # abre o browser p/ login\n",
    "ee.Initialize(project='')     # conecta sua sessão"
   ]
  },
  {
   "cell_type": "markdown",
   "id": "07822774",
   "metadata": {},
   "source": [
    "### Colocando as coordenadas do poligono selecionado no site : https://code.earthengine.google.com/"
   ]
  },
  {
   "cell_type": "code",
   "execution_count": 2,
   "id": "ebe0f9f9",
   "metadata": {},
   "outputs": [],
   "source": [
    "coords = [ [-50.371698, -24.54722],\n",
    "    [-50.371551, -24.546964],\n",
    "    [-50.371269, -24.546342],\n",
    "    [-50.371000, -24.545605],\n",
    "    [-50.370823, -24.544800],\n",
    "    [-50.370753, -24.544142],\n",
    "    [-50.370780, -24.543439],\n",
    "    [-50.370884, -24.542887],\n",
    "    [-50.371125, -24.542346],\n",
    "    [-50.371382, -24.541970],\n",
    "    [-50.371731, -24.541594],\n",
    "    [-50.372015, -24.541365],\n",
    "    [-50.372402, -24.541145],\n",
    "    [-50.374142, -24.540278],\n",
    "    [-50.374710, -24.539985],\n",
    "    [-50.375627, -24.539502],\n",
    "    [-50.375799, -24.539454],\n",
    "    [-50.375851, -24.539563],\n",
    "    [-50.376208, -24.540466],\n",
    "    [-50.376729, -24.541700],\n",
    "    [-50.376810, -24.541878],\n",
    "    [-50.371698, -24.547220]  # fecha o anel (mesmo do primeiro ponto)\n",
    "]\n",
    "\n",
    "    \n",
    "aoi = ee.Geometry.Polygon(coords) "
   ]
  },
  {
   "cell_type": "markdown",
   "id": "876a900a",
   "metadata": {},
   "source": [
    "### Selecionando o Satélite --> O intervalo de Tempo -> Filtrando o Resultado "
   ]
  },
  {
   "cell_type": "code",
   "execution_count": 3,
   "id": "f8174d35",
   "metadata": {},
   "outputs": [
    {
     "name": "stdout",
     "output_type": "stream",
     "text": [
      "Imagens filtradas: 2\n"
     ]
    }
   ],
   "source": [
    "S2 = ee.ImageCollection('COPERNICUS/S2_SR_HARMONIZED')\n",
    "\n",
    "start = '2024-05-01' \n",
    "end = '2024-05-31'\n",
    "\n",
    "s2_sel = (S2\n",
    "    .filterDate(start, end)\n",
    "    .filterBounds(aoi)      \n",
    "    .filter(ee.Filter.lte('CLOUDY_PIXEL_PERCENTAGE', 20)))\n",
    "\n",
    "print('Imagens filtradas:', s2_sel.size().getInfo())\n"
   ]
  },
  {
   "cell_type": "markdown",
   "id": "d6ee041e",
   "metadata": {},
   "source": [
    "### Selecionando a melhor imagem de acordo com o filtro -> Pegando todas as bandas que serão utilizadas para os cálculos dos índices."
   ]
  },
  {
   "cell_type": "code",
   "execution_count": 4,
   "id": "42137d17",
   "metadata": {},
   "outputs": [],
   "source": [
    "best = s2_sel.sort('CLOUDY_PIXEL_PERCENTAGE').first()\n",
    "\n",
    "nir = best.select('B8').toFloat().divide(10000) # seleciona INFRAVERMELHO\n",
    "red = best.select('B4').toFloat().divide(10000) # seleciona RED \n",
    "blue = best.select('B2').toFloat().divide(10000) # seleciona AZUL\n",
    "green = best.select('B3').toFloat().divide(10000) # seleciona o VERDE\n",
    "swir1 = best.select('B11').toFloat().divide(10000) \n",
    "re1 = best.select('B5').toFloat().divide(10000) # seleciona o red-edge\n",
    "re2 = best.select('B6').toFloat().divide(10000)  # red-edge 2"
   ]
  },
  {
   "cell_type": "markdown",
   "id": "d073e20f",
   "metadata": {},
   "source": [
    "### NDVI : mede o vigor da vegetação comparando infravermelho (NIR) e vermelho (RED)."
   ]
  },
  {
   "cell_type": "code",
   "execution_count": 5,
   "id": "cc263d8a",
   "metadata": {},
   "outputs": [
    {
     "name": "stdout",
     "output_type": "stream",
     "text": [
      "NDVI stats: {'NDVI_max': 0.8291243804578711, 'NDVI_mean': 0.3598313093467725, 'NDVI_min': 0.08901098901098897}\n"
     ]
    }
   ],
   "source": [
    "ndvi = nir.subtract(red).divide(nir.add(red)).rename('NDVI')\n",
    "\n",
    "stats = ndvi.reduceRegion(\n",
    "    reducer=ee.Reducer.minMax().combine(ee.Reducer.mean(), sharedInputs=True),\n",
    "    geometry=aoi,\n",
    "    scale=10,            # Sentinel-2 em 10 m para B4/B8\n",
    "    maxPixels=1e9,\n",
    "    bestEffort=True\n",
    ")\n",
    "\n",
    "print('NDVI stats:', stats.getInfo())"
   ]
  },
  {
   "cell_type": "markdown",
   "id": "0df93db5",
   "metadata": {},
   "source": [
    "### EVI → realça o vigor em áreas densas, corrigindo saturação e influência atmosférica."
   ]
  },
  {
   "cell_type": "code",
   "execution_count": 6,
   "id": "1e8215c7",
   "metadata": {},
   "outputs": [
    {
     "name": "stdout",
     "output_type": "stream",
     "text": [
      "EVI stats: {'EVI_max': 0.6470544810276097, 'EVI_mean': 0.22757094296710217, 'EVI_min': 0.04455445544554453}\n"
     ]
    }
   ],
   "source": [
    "evi = nir.subtract(red).multiply(2.5) \\\n",
    "        .divide(nir.add(red.multiply(6)).subtract(blue.multiply(7.5)).add(1)) \\\n",
    "        .rename('EVI')\n",
    "\n",
    "evi_stats = evi.reduceRegion(\n",
    "    reducer=ee.Reducer.minMax().combine(ee.Reducer.mean(), sharedInputs=True),\n",
    "    geometry=aoi,\n",
    "    scale=10,\n",
    "    maxPixels=1e9,\n",
    "    bestEffort=True\n",
    ")\n",
    "print('EVI stats:', evi_stats.getInfo())"
   ]
  },
  {
   "cell_type": "markdown",
   "id": "ef165fb1",
   "metadata": {},
   "source": [
    "### NDWI → indica presença de água em superfícies (vegetação ou solo)."
   ]
  },
  {
   "cell_type": "code",
   "execution_count": 7,
   "id": "07deda5a",
   "metadata": {},
   "outputs": [
    {
     "name": "stdout",
     "output_type": "stream",
     "text": [
      "NDWI stats: {'NDWI_max': -0.32695276319851807, 'NDWI_mean': -0.47834762768675443, 'NDWI_min': -0.7545845596558751}\n"
     ]
    }
   ],
   "source": [
    "ndwi = green.subtract(nir).divide(green.add(nir)).rename('NDWI')\n",
    "\n",
    "ndwi_stats = ndwi.reduceRegion(\n",
    "    reducer=ee.Reducer.minMax().combine(ee.Reducer.mean(), sharedInputs=True),\n",
    "    geometry=aoi, scale=10, maxPixels=1e9, bestEffort=True\n",
    ")\n",
    "print('NDWI stats:', ndwi_stats.getInfo())"
   ]
  },
  {
   "cell_type": "markdown",
   "id": "abf90851",
   "metadata": {},
   "source": [
    "### NDMI → mede o teor de umidade da vegetação (NIR vs SWIR1)."
   ]
  },
  {
   "cell_type": "code",
   "execution_count": 8,
   "id": "66f0a823",
   "metadata": {},
   "outputs": [
    {
     "name": "stdout",
     "output_type": "stream",
     "text": [
      "NDMI stats: {'NDMI_max': 0.2790889585740221, 'NDMI_mean': -0.14939806647644754, 'NDMI_min': -0.31825410849973496}\n"
     ]
    }
   ],
   "source": [
    "\n",
    "\n",
    "ndmi = nir.subtract(swir1).divide(nir.add(swir1)).rename('NDMI')\n",
    "\n",
    "ndmi_stats = ndmi.reduceRegion(\n",
    "    reducer=ee.Reducer.minMax().combine(ee.Reducer.mean(), sharedInputs=True),\n",
    "    geometry=aoi, scale=10, maxPixels=1e9, bestEffort=True\n",
    ")\n",
    "print('NDMI stats:', ndmi_stats.getInfo())\n"
   ]
  },
  {
   "cell_type": "markdown",
   "id": "b4c0fe75",
   "metadata": {},
   "source": [
    "### GNDVI → sensível à clorofila, usa o verde (GREEN) em vez do vermelho."
   ]
  },
  {
   "cell_type": "code",
   "execution_count": 9,
   "id": "98395f1b",
   "metadata": {},
   "outputs": [
    {
     "name": "stdout",
     "output_type": "stream",
     "text": [
      "GNDVI stats: {'GNDVI_max': 0.7545845596558751, 'GNDVI_mean': 0.47834762768675443, 'GNDVI_min': 0.32695276319851807}\n"
     ]
    }
   ],
   "source": [
    "gndvi = nir.subtract(green).divide(nir.add(green)).rename('GNDVI')\n",
    "\n",
    "gndvi_stats = gndvi.reduceRegion(\n",
    "    reducer=ee.Reducer.minMax().combine(ee.Reducer.mean(), sharedInputs=True),\n",
    "    geometry=aoi, scale=10, maxPixels=1e9, bestEffort=True\n",
    ")\n",
    "print('GNDVI stats:', gndvi_stats.getInfo())\n"
   ]
  },
  {
   "cell_type": "markdown",
   "id": "51a37e37",
   "metadata": {},
   "source": [
    "### NDRE → detecta clorofila em plantas mais densas usando a banda red-edge."
   ]
  },
  {
   "cell_type": "code",
   "execution_count": 10,
   "id": "8b31ea39",
   "metadata": {},
   "outputs": [
    {
     "name": "stdout",
     "output_type": "stream",
     "text": [
      "NDRE stats: {'NDRE_max': 0.5962924819773429, 'NDRE_mean': 0.23071779958523625, 'NDRE_min': 0.03402854006586175}\n"
     ]
    }
   ],
   "source": [
    "ndre = nir.subtract(re1).divide(nir.add(re1)).rename('NDRE')\n",
    "\n",
    "ndre_stats = ndre.reduceRegion(\n",
    "    reducer=ee.Reducer.minMax().combine(ee.Reducer.mean(), sharedInputs=True),\n",
    "    geometry=aoi, scale=10, maxPixels=1e9, bestEffort=True\n",
    ")\n",
    "print('NDRE stats:', ndre_stats.getInfo())"
   ]
  },
  {
   "cell_type": "markdown",
   "id": "6ad31034",
   "metadata": {},
   "source": [
    "### RENDVI → variação do NDVI baseada em bandas red-edge (maior precisão em vegetação vigorosa)."
   ]
  },
  {
   "cell_type": "code",
   "execution_count": 11,
   "id": "e3475bbc",
   "metadata": {},
   "outputs": [
    {
     "name": "stdout",
     "output_type": "stream",
     "text": [
      "RENDVI stats: {'RENDVI_A_max': 0.1839501648955661, 'RENDVI_A_mean': 0.07995856802689913, 'RENDVI_A_min': -0.02937915742793791}\n"
     ]
    }
   ],
   "source": [
    "rendvi = nir.subtract(re2).divide(nir.add(re2)).rename('RENDVI_A')\n",
    "\n",
    "rendvi_stats = rendvi.reduceRegion(\n",
    "    reducer=ee.Reducer.minMax().combine(ee.Reducer.mean(), sharedInputs=True),\n",
    "    geometry=aoi, scale=10, maxPixels=1e9, bestEffort=True\n",
    ")\n",
    "print('RENDVI stats:', rendvi_stats.getInfo())\n"
   ]
  },
  {
   "cell_type": "markdown",
   "id": "47da4263",
   "metadata": {},
   "source": [
    "### BIOMASSA → combinação de NDVI e NDRE para estimar o vigor e a quantidade de matéria vegetal."
   ]
  },
  {
   "cell_type": "code",
   "execution_count": 12,
   "id": "0cc9567f",
   "metadata": {},
   "outputs": [
    {
     "name": "stdout",
     "output_type": "stream",
     "text": [
      "BIOMASSA proxy stats: {'BIOMASSA_SCORE_max': 100, 'BIOMASSA_SCORE_mean': 35.78669670263209, 'BIOMASSA_SCORE_min': 2.2496572680127422}\n"
     ]
    }
   ],
   "source": [
    "# Normalização min-max dentro da AOI (simples, só p/ proxy)\n",
    "def minmax(img_band, name):\n",
    "    stats = img_band.reduceRegion(\n",
    "        reducer=ee.Reducer.minMax(),\n",
    "        geometry=aoi, scale=10, maxPixels=1e9, bestEffort=True\n",
    "    )\n",
    "    mn = ee.Number(stats.get(name + '_min'))\n",
    "    mx = ee.Number(stats.get(name + '_max'))\n",
    "    # evita divisão por zero\n",
    "    norm = img_band.subtract(mn).divide(mx.subtract(mn).max(1e-6)).rename(name + '_norm')\n",
    "    return norm\n",
    "\n",
    "ndvi_norm = minmax(ndvi.rename('NDVI'), 'NDVI')\n",
    "ndre_norm = minmax(ndre.rename('NDRE'), 'NDRE')\n",
    "\n",
    "biomassa_proxy = ndvi_norm.add(ndre_norm).divide(2).rename('BIOMASSA_PROXY')  # 0..1\n",
    "biomassa_score = biomassa_proxy.multiply(100).rename('BIOMASSA_SCORE')        # 0..100\n",
    "\n",
    "# Estatística pra validar\n",
    "bio_stats = biomassa_score.reduceRegion(\n",
    "    reducer=ee.Reducer.minMax().combine(ee.Reducer.mean(), sharedInputs=True),\n",
    "    geometry=aoi, scale=10, maxPixels=1e9, bestEffort=True\n",
    ")\n",
    "print('BIOMASSA proxy stats:', bio_stats.getInfo())\n"
   ]
  },
  {
   "cell_type": "markdown",
   "id": "0ceef60a",
   "metadata": {},
   "source": [
    "### SIMULAÇÃO DO CÁLCULO DE NDVI ANTES E DEPOIS"
   ]
  },
  {
   "cell_type": "code",
   "execution_count": 13,
   "id": "541bea6c",
   "metadata": {},
   "outputs": [
    {
     "name": "stdout",
     "output_type": "stream",
     "text": [
      "ΔNDVI stats: {'DELTA_NDVI_max': 0.18513728709271823, 'DELTA_NDVI_mean': -0.19085340561180394, 'DELTA_NDVI_min': -0.703056394691494}\n"
     ]
    }
   ],
   "source": [
    "antes_start, antes_end   = '2024-05-01', '2024-05-31'\n",
    "depois_start, depois_end = '2024-10-01', '2024-10-31'\n",
    "\n",
    "def period_composite(start, end):\n",
    "    S2 = (ee.ImageCollection('COPERNICUS/S2_SR_HARMONIZED')\n",
    "          .filterDate(start, end)\n",
    "          .filterBounds(aoi)\n",
    "          .filter(ee.Filter.lte('CLOUDY_PIXEL_PERCENTAGE', 40)))\n",
    "    cleaned = S2.map(mask_s2_clouds)          # se quiser, depois acrescente a máscara SCL\n",
    "    comp = cleaned.median()                    # compósito temporal\n",
    "    return comp\n",
    "\n",
    "\n",
    "def mask_s2_clouds(image):\n",
    "    qa = image.select('QA60')\n",
    "    cloud_bit = 1 << 10\n",
    "    cirrus_bit = 1 << 11\n",
    "    mask = qa.bitwiseAnd(cloud_bit).eq(0).And(qa.bitwiseAnd(cirrus_bit).eq(0))\n",
    "    return image.updateMask(mask).copyProperties(image, ['system:time_start'])\n",
    "\n",
    "def ndvi_from(start, end):\n",
    "    img = period_composite(start, end)\n",
    "    nir = img.select('B8').toFloat().divide(10000)\n",
    "    red = img.select('B4').toFloat().divide(10000)\n",
    "    return nir.subtract(red).divide(nir.add(red)).rename('NDVI')\n",
    "\n",
    "\n",
    "ndvi_antes  = ndvi_from(antes_start, antes_end)\n",
    "ndvi_depois = ndvi_from(depois_start, depois_end)\n",
    "\n",
    "delta_ndvi = ndvi_depois.subtract(ndvi_antes).rename('DELTA_NDVI')  # depois - antes\n",
    "\n",
    "delta_stats = delta_ndvi.reduceRegion(\n",
    "    reducer=ee.Reducer.minMax().combine(ee.Reducer.mean(), sharedInputs=True),\n",
    "    geometry=aoi, scale=10, maxPixels=1e9, bestEffort=True\n",
    ")\n",
    "print('ΔNDVI stats:', delta_stats.getInfo())\n"
   ]
  },
  {
   "cell_type": "markdown",
   "id": "a3c6ba8e",
   "metadata": {},
   "source": [
    "### Gráfico simples que demonstra a mudança do NDVI nessa região\n",
    "\n",
    "\n"
   ]
  },
  {
   "cell_type": "code",
   "execution_count": 14,
   "id": "dd52e30c",
   "metadata": {},
   "outputs": [
    {
     "data": {
      "image/png": "[encoded data removed]",
      "text/plain": [
       "<Figure size 640x480 with 1 Axes>"
      ]
     },
     "metadata": {},
     "output_type": "display_data"
    }
   ],
   "source": [
    "import matplotlib.pyplot as plt\n",
    "\n",
    "# Extrai os valores médios de NDVI antes e depois\n",
    "stats_before = ndvi_antes.reduceRegion(\n",
    "    reducer=ee.Reducer.mean(),\n",
    "    geometry=aoi, scale=10, maxPixels=1e9, bestEffort=True\n",
    ").getInfo()\n",
    "\n",
    "stats_after = ndvi_depois.reduceRegion(\n",
    "    reducer=ee.Reducer.mean(),\n",
    "    geometry=aoi, scale=10, maxPixels=1e9, bestEffort=True\n",
    ").getInfo()\n",
    "\n",
    "mean_before = stats_before['NDVI']\n",
    "mean_after  = stats_after['NDVI']\n",
    "\n",
    "# Plot simples\n",
    "plt.bar(['Antes', 'Depois'], [mean_before, mean_after], color=['orange', 'green'])\n",
    "plt.ylabel('NDVI médio')\n",
    "plt.title('Mudança do NDVI na AOI')\n",
    "plt.grid(axis='y', linestyle='--', alpha=0.7)\n",
    "plt.show()\n"
   ]
  },
  {
   "cell_type": "markdown",
   "id": "a606664b",
   "metadata": {},
   "source": [
    "## Teor de Argila no solo"
   ]
  },
  {
   "cell_type": "code",
   "execution_count": 15,
   "id": "132655f6",
   "metadata": {},
   "outputs": [],
   "source": [
    "SCALE = 250               # resolução nativa do OpenLandMap (~250 m)\n",
    "REGION = aoi         \n",
    "DEPTH = '0-5cm'           # '0-5cm' | '5-15cm' | '15-30cm' | '30-60cm' | '60-100cm' | '100-200cm'\n",
    "\n",
    "DEPTH_TO_BAND = {\n",
    "    '0-5cm':     'b0',\n",
    "    '5-15cm':    'b10',\n",
    "    '15-30cm':   'b30',\n",
    "    '30-60cm':   'b60',\n",
    "    '60-100cm':  'b100',\n",
    "    '100-200cm': 'b200',\n",
    "}\n",
    "\n",
    "def get_clay_image(depth_label: str) -> ee.Image:\n",
    "    \"\"\"Retorna imagem (% argila) para a profundidade desejada, renomeada para 'clay_pct'.\"\"\"\n",
    "    band = DEPTH_TO_BAND[depth_label]\n",
    "    img = (ee.Image('OpenLandMap/SOL/SOL_CLAY-WFRACTION_USDA-3A1A1A_M/v02')\n",
    "           .select(band)\n",
    "           .rename('clay_pct'))\n",
    "    return img\n"
   ]
  },
  {
   "cell_type": "code",
   "execution_count": 16,
   "id": "02260eec",
   "metadata": {},
   "outputs": [
    {
     "name": "stdout",
     "output_type": "stream",
     "text": [
      "ARGILA (250 m, 0-5cm) stats: {'CLAY_mean_%': 37.89171452009845, 'CLAY_min_%': 32, 'CLAY_max_%': 43}\n"
     ]
    }
   ],
   "source": [
    "def clay_stats(image: ee.Image, region: ee.Geometry, scale: int = 250) -> dict:\n",
    "    \"\"\"Calcula mean/min/max do teor de argila (%) na região.\"\"\"\n",
    "    r = image.reduceRegion(\n",
    "        reducer=ee.Reducer.mean().combine(reducer2=ee.Reducer.min(), sharedInputs=True)\n",
    "                               .combine(reducer2=ee.Reducer.max(), sharedInputs=True),\n",
    "        geometry=region,\n",
    "        scale=scale,\n",
    "        maxPixels=1e13,\n",
    "        bestEffort=True\n",
    "    )\n",
    "    # getInfo é ok para um dicionário pequeno de stats\n",
    "    d = r.getInfo()\n",
    "    # padroniza chaves\n",
    "    val_mean = d.get('clay_pct_mean')\n",
    "    val_min  = d.get('clay_pct_min')\n",
    "    val_max  = d.get('clay_pct_max')\n",
    "    stats = {\n",
    "        'CLAY_mean_%': val_mean,\n",
    "        'CLAY_min_%':  val_min,\n",
    "        'CLAY_max_%':  val_max\n",
    "    }\n",
    "    print(f\"ARGILA ({SCALE} m, {DEPTH}) stats:\", stats)\n",
    "    return stats\n",
    "\n",
    "# --- rodar ---\n",
    "clay_img = get_clay_image(DEPTH)\n",
    "_ = clay_stats(clay_img, REGION, SCALE)\n"
   ]
  }
 ],
 "metadata": {
  "kernelspec": {
   "display_name": "base",
   "language": "python",
   "name": "python3"
  },
  "language_info": {
   "codemirror_mode": {
    "name": "ipython",
    "version": 3
   },
   "file_extension": ".py",
   "mimetype": "text/x-python",
   "name": "python",
   "nbconvert_exporter": "python",
   "pygments_lexer": "ipython3",
   "version": "3.13.5"
  }
 },
 "nbformat": 4,
 "nbformat_minor": 5
}
