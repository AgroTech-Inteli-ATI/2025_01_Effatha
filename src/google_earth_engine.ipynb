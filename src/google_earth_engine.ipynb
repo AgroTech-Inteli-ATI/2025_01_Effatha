{
 "cells": [
  {
   "cell_type": "markdown",
   "id": "9930d400",
   "metadata": {},
   "source": [
    "## Importação da Biblioteca do Google Earth Engine\n"
   ]
  },
  {
   "cell_type": "code",
   "execution_count": 3,
   "id": "e30c37a1",
   "metadata": {},
   "outputs": [
    {
     "data": {
      "text/html": [
       "<p>To authorize access needed by Earth Engine, open the following\n",
       "        URL in a web browser and follow the instructions:</p>\n",
       "        <p><a href=https://code.earthengine.google.com/client-auth?scopes=https%3A//www.googleapis.com/auth/earthengine%20https%3A//www.googleapis.com/auth/cloud-platform%20https%3A//www.googleapis.com/auth/drive%20https%3A//www.googleapis.com/auth/devstorage.full_control&request_id=0HvNrO3KLM56S-EpnNmf7GglAkVvWyxXku5IbXMrMZo&tc=qA7ibskdceqmB2j2518ANT5AVz1U-lGGe9S53i5Cj6Q&cc=nDU-OyaBEmhM5aIWXjdsgcWctd0RB_GEWessG2DYYvM>https://code.earthengine.google.com/client-auth?scopes=https%3A//www.googleapis.com/auth/earthengine%20https%3A//www.googleapis.com/auth/cloud-platform%20https%3A//www.googleapis.com/auth/drive%20https%3A//www.googleapis.com/auth/devstorage.full_control&request_id=0HvNrO3KLM56S-EpnNmf7GglAkVvWyxXku5IbXMrMZo&tc=qA7ibskdceqmB2j2518ANT5AVz1U-lGGe9S53i5Cj6Q&cc=nDU-OyaBEmhM5aIWXjdsgcWctd0RB_GEWessG2DYYvM</a></p>\n",
       "        <p>The authorization workflow will generate a code, which you should paste in the box below.</p>\n",
       "        "
      ],
      "text/plain": [
       "<IPython.core.display.HTML object>"
      ]
     },
     "metadata": {},
     "output_type": "display_data"
    },
    {
     "name": "stdout",
     "output_type": "stream",
     "text": [
      "Abrindo em uma sessão de navegador existente.\n"
     ]
    },
    {
     "ename": "EEException",
     "evalue": "Cannot authenticate: Invalid request.",
     "output_type": "error",
     "traceback": [
      "\u001b[0;31m---------------------------------------------------------------------------\u001b[0m",
      "\u001b[0;31mEEException\u001b[0m                               Traceback (most recent call last)",
      "Cell \u001b[0;32mIn[3], line 3\u001b[0m\n\u001b[1;32m      1\u001b[0m \u001b[38;5;28;01mimport\u001b[39;00m\u001b[38;5;250m \u001b[39m\u001b[38;5;21;01mee\u001b[39;00m \n\u001b[0;32m----> 3\u001b[0m \u001b[43mee\u001b[49m\u001b[38;5;241;43m.\u001b[39;49m\u001b[43mAuthenticate\u001b[49m\u001b[43m(\u001b[49m\u001b[43m)\u001b[49m   \u001b[38;5;66;03m# abre o browser p/ login\u001b[39;00m\n\u001b[1;32m      4\u001b[0m ee\u001b[38;5;241m.\u001b[39mInitialize(project\u001b[38;5;241m=\u001b[39m\u001b[38;5;124m'\u001b[39m\u001b[38;5;124m'\u001b[39m)     \u001b[38;5;66;03m# conecta sua sessão\u001b[39;00m\n",
      "File \u001b[0;32m~/.pyenv/versions/pycaret310/lib/python3.10/site-packages/ee/__init__.py:159\u001b[0m, in \u001b[0;36mAuthenticate\u001b[0;34m(authorization_code, quiet, code_verifier, auth_mode, scopes, force)\u001b[0m\n\u001b[1;32m    128\u001b[0m \u001b[38;5;28;01mdef\u001b[39;00m\u001b[38;5;250m \u001b[39m\u001b[38;5;21mAuthenticate\u001b[39m(\n\u001b[1;32m    129\u001b[0m     authorization_code: Optional[\u001b[38;5;28mstr\u001b[39m] \u001b[38;5;241m=\u001b[39m \u001b[38;5;28;01mNone\u001b[39;00m,\n\u001b[1;32m    130\u001b[0m     quiet: Optional[\u001b[38;5;28mbool\u001b[39m] \u001b[38;5;241m=\u001b[39m \u001b[38;5;28;01mNone\u001b[39;00m,\n\u001b[0;32m   (...)\u001b[0m\n\u001b[1;32m    134\u001b[0m     force: \u001b[38;5;28mbool\u001b[39m \u001b[38;5;241m=\u001b[39m \u001b[38;5;28;01mFalse\u001b[39;00m,\n\u001b[1;32m    135\u001b[0m ) \u001b[38;5;241m-\u001b[39m\u001b[38;5;241m>\u001b[39m Optional[\u001b[38;5;28mbool\u001b[39m]:\n\u001b[1;32m    136\u001b[0m \u001b[38;5;250m  \u001b[39m\u001b[38;5;124;03m\"\"\"Prompts the user to authorize access to Earth Engine via OAuth2.\u001b[39;00m\n\u001b[1;32m    137\u001b[0m \n\u001b[1;32m    138\u001b[0m \u001b[38;5;124;03m  Args:\u001b[39;00m\n\u001b[0;32m   (...)\u001b[0m\n\u001b[1;32m    157\u001b[0m \u001b[38;5;124;03m    True if we found valid credentials and didn't run the auth flow.\u001b[39;00m\n\u001b[1;32m    158\u001b[0m \u001b[38;5;124;03m  \"\"\"\u001b[39;00m\n\u001b[0;32m--> 159\u001b[0m   \u001b[38;5;28;01mreturn\u001b[39;00m \u001b[43moauth\u001b[49m\u001b[38;5;241;43m.\u001b[39;49m\u001b[43mauthenticate\u001b[49m\u001b[43m(\u001b[49m\u001b[43mauthorization_code\u001b[49m\u001b[43m,\u001b[49m\u001b[43m \u001b[49m\u001b[43mquiet\u001b[49m\u001b[43m,\u001b[49m\u001b[43m \u001b[49m\u001b[43mcode_verifier\u001b[49m\u001b[43m,\u001b[49m\u001b[43m \u001b[49m\u001b[43mauth_mode\u001b[49m\u001b[43m,\u001b[49m\n\u001b[1;32m    160\u001b[0m \u001b[43m                            \u001b[49m\u001b[43mscopes\u001b[49m\u001b[43m,\u001b[49m\u001b[43m \u001b[49m\u001b[43mforce\u001b[49m\u001b[43m)\u001b[49m\n",
      "File \u001b[0;32m~/.pyenv/versions/pycaret310/lib/python3.10/site-packages/ee/oauth.py:560\u001b[0m, in \u001b[0;36mauthenticate\u001b[0;34m(cli_authorization_code, quiet, cli_code_verifier, auth_mode, scopes, force)\u001b[0m\n\u001b[1;32m    557\u001b[0m \u001b[38;5;28;01mif\u001b[39;00m flow\u001b[38;5;241m.\u001b[39mdisplay_instructions(quiet):\n\u001b[1;32m    558\u001b[0m   _open_new_browser(flow\u001b[38;5;241m.\u001b[39mauth_url)\n\u001b[0;32m--> 560\u001b[0m \u001b[43mflow\u001b[49m\u001b[38;5;241;43m.\u001b[39;49m\u001b[43msave_code\u001b[49m\u001b[43m(\u001b[49m\u001b[43m)\u001b[49m\n",
      "File \u001b[0;32m~/.pyenv/versions/pycaret310/lib/python3.10/site-packages/ee/oauth.py:610\u001b[0m, in \u001b[0;36mFlow.save_code\u001b[0;34m(self, code)\u001b[0m\n\u001b[1;32m    608\u001b[0m   redirect_uri \u001b[38;5;241m=\u001b[39m \u001b[38;5;28mself\u001b[39m\u001b[38;5;241m.\u001b[39mserver\u001b[38;5;241m.\u001b[39murl\n\u001b[1;32m    609\u001b[0m   code \u001b[38;5;241m=\u001b[39m \u001b[38;5;28mself\u001b[39m\u001b[38;5;241m.\u001b[39mserver\u001b[38;5;241m.\u001b[39mfetch_code()  \u001b[38;5;66;03m# Waits for oauth callback\u001b[39;00m\n\u001b[0;32m--> 610\u001b[0m \u001b[43m_obtain_and_write_token\u001b[49m\u001b[43m(\u001b[49m\u001b[43mcode\u001b[49m\u001b[43m,\u001b[49m\u001b[43m \u001b[49m\u001b[38;5;28;43mself\u001b[39;49m\u001b[38;5;241;43m.\u001b[39;49m\u001b[43mcode_verifier\u001b[49m\u001b[43m,\u001b[49m\u001b[43m \u001b[49m\u001b[38;5;28;43mself\u001b[39;49m\u001b[38;5;241;43m.\u001b[39;49m\u001b[43mscopes\u001b[49m\u001b[43m,\u001b[49m\u001b[43m \u001b[49m\u001b[43mredirect_uri\u001b[49m\u001b[43m)\u001b[49m\n",
      "File \u001b[0;32m~/.pyenv/versions/pycaret310/lib/python3.10/site-packages/ee/oauth.py:270\u001b[0m, in \u001b[0;36m_obtain_and_write_token\u001b[0;34m(auth_code, code_verifier, scopes, redirect_uri)\u001b[0m\n\u001b[1;32m    267\u001b[0m fetched_info \u001b[38;5;241m=\u001b[39m json\u001b[38;5;241m.\u001b[39mloads(\n\u001b[1;32m    268\u001b[0m     urllib\u001b[38;5;241m.\u001b[39mrequest\u001b[38;5;241m.\u001b[39murlopen(fetch_client)\u001b[38;5;241m.\u001b[39mread()\u001b[38;5;241m.\u001b[39mdecode())\n\u001b[1;32m    269\u001b[0m \u001b[38;5;28;01mif\u001b[39;00m \u001b[38;5;124m'\u001b[39m\u001b[38;5;124merror\u001b[39m\u001b[38;5;124m'\u001b[39m \u001b[38;5;129;01min\u001b[39;00m fetched_info:\n\u001b[0;32m--> 270\u001b[0m   \u001b[38;5;28;01mraise\u001b[39;00m ee_exception\u001b[38;5;241m.\u001b[39mEEException(\n\u001b[1;32m    271\u001b[0m       \u001b[38;5;124m'\u001b[39m\u001b[38;5;124mCannot authenticate: \u001b[39m\u001b[38;5;132;01m%s\u001b[39;00m\u001b[38;5;124m'\u001b[39m \u001b[38;5;241m%\u001b[39m fetched_info[\u001b[38;5;124m'\u001b[39m\u001b[38;5;124merror\u001b[39m\u001b[38;5;124m'\u001b[39m]\n\u001b[1;32m    272\u001b[0m   )\n\u001b[1;32m    273\u001b[0m client_info \u001b[38;5;241m=\u001b[39m {k: fetched_info[k] \u001b[38;5;28;01mfor\u001b[39;00m k \u001b[38;5;129;01min\u001b[39;00m [\u001b[38;5;124m'\u001b[39m\u001b[38;5;124mclient_id\u001b[39m\u001b[38;5;124m'\u001b[39m, \u001b[38;5;124m'\u001b[39m\u001b[38;5;124mclient_secret\u001b[39m\u001b[38;5;124m'\u001b[39m]}\n\u001b[1;32m    274\u001b[0m scopes \u001b[38;5;241m=\u001b[39m fetched_info\u001b[38;5;241m.\u001b[39mget(\u001b[38;5;124m'\u001b[39m\u001b[38;5;124mscopes\u001b[39m\u001b[38;5;124m'\u001b[39m) \u001b[38;5;129;01mor\u001b[39;00m scopes\n",
      "\u001b[0;31mEEException\u001b[0m: Cannot authenticate: Invalid request."
     ]
    }
   ],
   "source": [
    "import ee \n",
    "\n",
    "ee.Authenticate()   # abre o browser p/ login\n",
    "ee.Initialize(project='')     # conecta sua sessão"
   ]
  },
  {
   "cell_type": "markdown",
   "id": "07822774",
   "metadata": {},
   "source": [
    "### Colocando as coordenadas do poligono selecionado no site : https://code.earthengine.google.com/"
   ]
  },
  {
   "cell_type": "code",
   "execution_count": 40,
   "id": "ebe0f9f9",
   "metadata": {},
   "outputs": [],
   "source": [
    "coords = [[ \n",
    "[-39.28604579767139,-7.043724891671749],\n",
    "[-39.28604579767139,-7.043724891671749], \n",
    "[-39.28604311546238,-7.043756835262702],\n",
    "[-39.28591436942966,-7.043735539535638],\n",
    "[-39.285923757161214,-7.043698272010933],\n",
    "[-39.28604579767139,-7.043724891671749]]]\n",
    "\n",
    "\n",
    "aoi = ee.Geometry.Polygon(coords) "
   ]
  },
  {
   "cell_type": "markdown",
   "id": "876a900a",
   "metadata": {},
   "source": [
    "### Selecionando o Satélite --> O intervalo de Tempo -> Filtrando o Resultado "
   ]
  },
  {
   "cell_type": "code",
   "execution_count": 41,
   "id": "f8174d35",
   "metadata": {},
   "outputs": [
    {
     "name": "stdout",
     "output_type": "stream",
     "text": [
      "Imagens filtradas: 2\n",
      "None\n"
     ]
    }
   ],
   "source": [
    "S2 = ee.ImageCollection('COPERNICUS/S2_SR_HARMONIZED')\n",
    "\n",
    "start = '2024-05-01' \n",
    "end = '2024-05-31'\n",
    "\n",
    "s2_sel = (S2\n",
    "    .filterDate(start, end)\n",
    "    .filterBounds(aoi)      \n",
    "    .filter(ee.Filter.lte('CLOUDY_PIXEL_PERCENTAGE', 20)))\n",
    "\n",
    "print(print('Imagens filtradas:', s2_sel.size().getInfo()))"
   ]
  },
  {
   "cell_type": "markdown",
   "id": "d6ee041e",
   "metadata": {},
   "source": [
    "### Selecionando a melhor imagem de acordo com o filtro -> Pegando todas as bandas que serão utilizadas para os cálculos dos índices."
   ]
  },
  {
   "cell_type": "code",
   "execution_count": 42,
   "id": "42137d17",
   "metadata": {},
   "outputs": [],
   "source": [
    "best = s2_sel.sort('CLOUDY_PIXEL_PERCENTAGE').first()\n",
    "\n",
    "nir = best.select('B8').toFloat().divide(10000) # seleciona INFRAVERMELHO\n",
    "red = best.select('B4').toFloat().divide(10000) # seleciona RED \n",
    "blue = best.select('B2').toFloat().divide(10000) # seleciona AZUL\n",
    "green = best.select('B3').toFloat().divide(10000) # seleciona o VERDE\n",
    "swir1 = best.select('B11').toFloat().divide(10000) \n",
    "re1 = best.select('B5').toFloat().divide(10000) # seleciona o red-edge\n",
    "re2 = best.select('B6').toFloat().divide(10000)  # red-edge 2"
   ]
  },
  {
   "cell_type": "markdown",
   "id": "d073e20f",
   "metadata": {},
   "source": [
    "### NDVI : mede o vigor da vegetação comparando infravermelho (NIR) e vermelho (RED)."
   ]
  },
  {
   "cell_type": "code",
   "execution_count": 43,
   "id": "cc263d8a",
   "metadata": {},
   "outputs": [
    {
     "name": "stdout",
     "output_type": "stream",
     "text": [
      "NDVI stats: {'NDVI_max': 0.6538131962296487, 'NDVI_mean': 0.26989924218194833, 'NDVI_min': 0.12187247780468126}\n"
     ]
    }
   ],
   "source": [
    "ndvi = nir.subtract(red).divide(nir.add(red)).rename('NDVI')\n",
    "\n",
    "stats = ndvi.reduceRegion(\n",
    "    reducer=ee.Reducer.minMax().combine(ee.Reducer.mean(), sharedInputs=True),\n",
    "    geometry=aoi,\n",
    "    scale=10,            # Sentinel-2 em 10 m para B4/B8\n",
    "    maxPixels=1e9,\n",
    "    bestEffort=True\n",
    ")\n",
    "\n",
    "print('NDVI stats:', stats.getInfo())"
   ]
  },
  {
   "cell_type": "markdown",
   "id": "0df93db5",
   "metadata": {},
   "source": [
    "### EVI → realça o vigor em áreas densas, corrigindo saturação e influência atmosférica."
   ]
  },
  {
   "cell_type": "code",
   "execution_count": 44,
   "id": "1e8215c7",
   "metadata": {},
   "outputs": [
    {
     "name": "stdout",
     "output_type": "stream",
     "text": [
      "EVI stats: {'EVI_max': 0.4329978813559321, 'EVI_mean': 0.1778668757878092, 'EVI_min': 0.07949041903558648}\n"
     ]
    }
   ],
   "source": [
    "evi = nir.subtract(red).multiply(2.5) \\\n",
    "        .divide(nir.add(red.multiply(6)).subtract(blue.multiply(7.5)).add(1)) \\\n",
    "        .rename('EVI')\n",
    "\n",
    "evi_stats = evi.reduceRegion(\n",
    "    reducer=ee.Reducer.minMax().combine(ee.Reducer.mean(), sharedInputs=True),\n",
    "    geometry=aoi,\n",
    "    scale=10,\n",
    "    maxPixels=1e9,\n",
    "    bestEffort=True\n",
    ")\n",
    "print('EVI stats:', evi_stats.getInfo())"
   ]
  },
  {
   "cell_type": "markdown",
   "id": "ef165fb1",
   "metadata": {},
   "source": [
    "### NDWI → indica presença de água em superfícies (vegetação ou solo)."
   ]
  },
  {
   "cell_type": "code",
   "execution_count": 45,
   "id": "07deda5a",
   "metadata": {},
   "outputs": [
    {
     "name": "stdout",
     "output_type": "stream",
     "text": [
      "NDWI stats: {'NDWI_max': -0.315042573320719, 'NDWI_mean': -0.40696068210864217, 'NDWI_min': -0.6204869857262805}\n"
     ]
    }
   ],
   "source": [
    "ndwi = green.subtract(nir).divide(green.add(nir)).rename('NDWI')\n",
    "\n",
    "ndwi_stats = ndwi.reduceRegion(\n",
    "    reducer=ee.Reducer.minMax().combine(ee.Reducer.mean(), sharedInputs=True),\n",
    "    geometry=aoi, scale=10, maxPixels=1e9, bestEffort=True\n",
    ")\n",
    "print('NDWI stats:', ndwi_stats.getInfo())"
   ]
  },
  {
   "cell_type": "markdown",
   "id": "abf90851",
   "metadata": {},
   "source": [
    "### NDMI → mede o teor de umidade da vegetação (NIR vs SWIR1)."
   ]
  },
  {
   "cell_type": "code",
   "execution_count": 46,
   "id": "66f0a823",
   "metadata": {},
   "outputs": [
    {
     "name": "stdout",
     "output_type": "stream",
     "text": [
      "NDMI stats: {'NDMI_max': 0.0508166969147005, 'NDMI_mean': -0.11558210940486002, 'NDMI_min': -0.14670210998504743}\n"
     ]
    }
   ],
   "source": [
    "\n",
    "\n",
    "ndmi = nir.subtract(swir1).divide(nir.add(swir1)).rename('NDMI')\n",
    "\n",
    "ndmi_stats = ndmi.reduceRegion(\n",
    "    reducer=ee.Reducer.minMax().combine(ee.Reducer.mean(), sharedInputs=True),\n",
    "    geometry=aoi, scale=10, maxPixels=1e9, bestEffort=True\n",
    ")\n",
    "print('NDMI stats:', ndmi_stats.getInfo())\n"
   ]
  },
  {
   "cell_type": "markdown",
   "id": "b4c0fe75",
   "metadata": {},
   "source": [
    "### GNDVI → sensível à clorofila, usa o verde (GREEN) em vez do vermelho."
   ]
  },
  {
   "cell_type": "code",
   "execution_count": 47,
   "id": "98395f1b",
   "metadata": {},
   "outputs": [
    {
     "name": "stdout",
     "output_type": "stream",
     "text": [
      "GNDVI stats: {'GNDVI_max': 0.6204869857262805, 'GNDVI_mean': 0.40696068210864217, 'GNDVI_min': 0.315042573320719}\n"
     ]
    }
   ],
   "source": [
    "gndvi = nir.subtract(green).divide(nir.add(green)).rename('GNDVI')\n",
    "\n",
    "gndvi_stats = gndvi.reduceRegion(\n",
    "    reducer=ee.Reducer.minMax().combine(ee.Reducer.mean(), sharedInputs=True),\n",
    "    geometry=aoi, scale=10, maxPixels=1e9, bestEffort=True\n",
    ")\n",
    "print('GNDVI stats:', gndvi_stats.getInfo())\n"
   ]
  },
  {
   "cell_type": "markdown",
   "id": "51a37e37",
   "metadata": {},
   "source": [
    "### NDRE → detecta clorofila em plantas mais densas usando a banda red-edge."
   ]
  },
  {
   "cell_type": "code",
   "execution_count": 48,
   "id": "8b31ea39",
   "metadata": {},
   "outputs": [
    {
     "name": "stdout",
     "output_type": "stream",
     "text": [
      "NDRE stats: {'NDRE_max': 0.47028948704926354, 'NDRE_mean': 0.21423556144147432, 'NDRE_min': 0.15441672285906943}\n"
     ]
    }
   ],
   "source": [
    "ndre = nir.subtract(re1).divide(nir.add(re1)).rename('NDRE')\n",
    "\n",
    "ndre_stats = ndre.reduceRegion(\n",
    "    reducer=ee.Reducer.minMax().combine(ee.Reducer.mean(), sharedInputs=True),\n",
    "    geometry=aoi, scale=10, maxPixels=1e9, bestEffort=True\n",
    ")\n",
    "print('NDRE stats:', ndre_stats.getInfo())"
   ]
  },
  {
   "cell_type": "markdown",
   "id": "6ad31034",
   "metadata": {},
   "source": [
    "### RENDVI → variação do NDVI baseada em bandas red-edge (maior precisão em vegetação vigorosa)."
   ]
  },
  {
   "cell_type": "code",
   "execution_count": 49,
   "id": "e3475bbc",
   "metadata": {},
   "outputs": [
    {
     "name": "stdout",
     "output_type": "stream",
     "text": [
      "RENDVI stats: {'RENDVI_A_max': 0.10983323749281196, 'RENDVI_A_mean': 0.042848888789695685, 'RENDVI_A_min': 0.03946569520340005}\n"
     ]
    }
   ],
   "source": [
    "rendvi = nir.subtract(re2).divide(nir.add(re2)).rename('RENDVI_A')\n",
    "\n",
    "rendvi_stats = rendvi.reduceRegion(\n",
    "    reducer=ee.Reducer.minMax().combine(ee.Reducer.mean(), sharedInputs=True),\n",
    "    geometry=aoi, scale=10, maxPixels=1e9, bestEffort=True\n",
    ")\n",
    "print('RENDVI stats:', rendvi_stats.getInfo())\n"
   ]
  },
  {
   "cell_type": "markdown",
   "id": "47da4263",
   "metadata": {},
   "source": [
    "### BIOMASSA → combinação de NDVI e NDRE para estimar o vigor e a quantidade de matéria vegetal."
   ]
  },
  {
   "cell_type": "code",
   "execution_count": 50,
   "id": "0cc9567f",
   "metadata": {},
   "outputs": [
    {
     "ename": "EEException",
     "evalue": "Number.subtract: Parameter 'left' is required and may not be null.",
     "output_type": "error",
     "traceback": [
      "\u001b[31m---------------------------------------------------------------------------\u001b[39m",
      "\u001b[31mHttpError\u001b[39m                                 Traceback (most recent call last)",
      "\u001b[36mFile \u001b[39m\u001b[32m~/.local/lib/python3.13/site-packages/ee/data.py:409\u001b[39m, in \u001b[36m_execute_cloud_call\u001b[39m\u001b[34m(call, num_retries)\u001b[39m\n\u001b[32m    408\u001b[39m \u001b[38;5;28;01mtry\u001b[39;00m:\n\u001b[32m--> \u001b[39m\u001b[32m409\u001b[39m   \u001b[38;5;28;01mreturn\u001b[39;00m \u001b[43mcall\u001b[49m\u001b[43m.\u001b[49m\u001b[43mexecute\u001b[49m\u001b[43m(\u001b[49m\u001b[43mnum_retries\u001b[49m\u001b[43m=\u001b[49m\u001b[43mnum_retries\u001b[49m\u001b[43m)\u001b[49m\n\u001b[32m    410\u001b[39m \u001b[38;5;28;01mexcept\u001b[39;00m googleapiclient.errors.HttpError \u001b[38;5;28;01mas\u001b[39;00m e:\n",
      "\u001b[36mFile \u001b[39m\u001b[32m~/.local/lib/python3.13/site-packages/googleapiclient/_helpers.py:130\u001b[39m, in \u001b[36mpositional.<locals>.positional_decorator.<locals>.positional_wrapper\u001b[39m\u001b[34m(*args, **kwargs)\u001b[39m\n\u001b[32m    129\u001b[39m         logger.warning(message)\n\u001b[32m--> \u001b[39m\u001b[32m130\u001b[39m \u001b[38;5;28;01mreturn\u001b[39;00m \u001b[43mwrapped\u001b[49m\u001b[43m(\u001b[49m\u001b[43m*\u001b[49m\u001b[43margs\u001b[49m\u001b[43m,\u001b[49m\u001b[43m \u001b[49m\u001b[43m*\u001b[49m\u001b[43m*\u001b[49m\u001b[43mkwargs\u001b[49m\u001b[43m)\u001b[49m\n",
      "\u001b[36mFile \u001b[39m\u001b[32m~/.local/lib/python3.13/site-packages/googleapiclient/http.py:938\u001b[39m, in \u001b[36mHttpRequest.execute\u001b[39m\u001b[34m(self, http, num_retries)\u001b[39m\n\u001b[32m    937\u001b[39m \u001b[38;5;28;01mif\u001b[39;00m resp.status >= \u001b[32m300\u001b[39m:\n\u001b[32m--> \u001b[39m\u001b[32m938\u001b[39m     \u001b[38;5;28;01mraise\u001b[39;00m HttpError(resp, content, uri=\u001b[38;5;28mself\u001b[39m.uri)\n\u001b[32m    939\u001b[39m \u001b[38;5;28;01mreturn\u001b[39;00m \u001b[38;5;28mself\u001b[39m.postproc(resp, content)\n",
      "\u001b[31mHttpError\u001b[39m: <HttpError 400 when requesting https://earthengine.googleapis.com/v1/projects/smooth-grid-474216-k6/value:compute?prettyPrint=false&alt=json returned \"Number.subtract: Parameter 'left' is required and may not be null.\". Details: \"Number.subtract: Parameter 'left' is required and may not be null.\">",
      "\nDuring handling of the above exception, another exception occurred:\n",
      "\u001b[31mEEException\u001b[39m                               Traceback (most recent call last)",
      "\u001b[36mCell\u001b[39m\u001b[36m \u001b[39m\u001b[32mIn[50]\u001b[39m\u001b[32m, line 24\u001b[39m\n\u001b[32m     19\u001b[39m \u001b[38;5;66;03m# Estatística pra validar\u001b[39;00m\n\u001b[32m     20\u001b[39m bio_stats = biomassa_score.reduceRegion(\n\u001b[32m     21\u001b[39m     reducer=ee.Reducer.minMax().combine(ee.Reducer.mean(), sharedInputs=\u001b[38;5;28;01mTrue\u001b[39;00m),\n\u001b[32m     22\u001b[39m     geometry=aoi, scale=\u001b[32m10\u001b[39m, maxPixels=\u001b[32m1e9\u001b[39m, bestEffort=\u001b[38;5;28;01mTrue\u001b[39;00m\n\u001b[32m     23\u001b[39m )\n\u001b[32m---> \u001b[39m\u001b[32m24\u001b[39m \u001b[38;5;28mprint\u001b[39m(\u001b[33m'\u001b[39m\u001b[33mBIOMASSA proxy stats:\u001b[39m\u001b[33m'\u001b[39m, \u001b[43mbio_stats\u001b[49m\u001b[43m.\u001b[49m\u001b[43mgetInfo\u001b[49m\u001b[43m(\u001b[49m\u001b[43m)\u001b[49m)\n",
      "\u001b[36mFile \u001b[39m\u001b[32m~/.local/lib/python3.13/site-packages/ee/computedobject.py:107\u001b[39m, in \u001b[36mComputedObject.getInfo\u001b[39m\u001b[34m(self)\u001b[39m\n\u001b[32m    101\u001b[39m \u001b[38;5;28;01mdef\u001b[39;00m\u001b[38;5;250m \u001b[39m\u001b[34mgetInfo\u001b[39m(\u001b[38;5;28mself\u001b[39m) -> Any | \u001b[38;5;28;01mNone\u001b[39;00m:\n\u001b[32m    102\u001b[39m \u001b[38;5;250m  \u001b[39m\u001b[33;03m\"\"\"Fetch and return information about this object.\u001b[39;00m\n\u001b[32m    103\u001b[39m \n\u001b[32m    104\u001b[39m \u001b[33;03m  Returns:\u001b[39;00m\n\u001b[32m    105\u001b[39m \u001b[33;03m    The object can evaluate to anything.\u001b[39;00m\n\u001b[32m    106\u001b[39m \u001b[33;03m  \"\"\"\u001b[39;00m\n\u001b[32m--> \u001b[39m\u001b[32m107\u001b[39m   \u001b[38;5;28;01mreturn\u001b[39;00m \u001b[43mdata\u001b[49m\u001b[43m.\u001b[49m\u001b[43mcomputeValue\u001b[49m\u001b[43m(\u001b[49m\u001b[38;5;28;43mself\u001b[39;49m\u001b[43m)\u001b[49m\n",
      "\u001b[36mFile \u001b[39m\u001b[32m~/.local/lib/python3.13/site-packages/ee/data.py:1128\u001b[39m, in \u001b[36mcomputeValue\u001b[39m\u001b[34m(obj)\u001b[39m\n\u001b[32m   1125\u001b[39m body = {\u001b[33m'\u001b[39m\u001b[33mexpression\u001b[39m\u001b[33m'\u001b[39m: serializer.encode(obj, for_cloud_api=\u001b[38;5;28;01mTrue\u001b[39;00m)}\n\u001b[32m   1126\u001b[39m _maybe_populate_workload_tag(body)\n\u001b[32m-> \u001b[39m\u001b[32m1128\u001b[39m \u001b[38;5;28;01mreturn\u001b[39;00m \u001b[43m_execute_cloud_call\u001b[49m\u001b[43m(\u001b[49m\n\u001b[32m   1129\u001b[39m \u001b[43m    \u001b[49m\u001b[43m_get_cloud_projects\u001b[49m\u001b[43m(\u001b[49m\u001b[43m)\u001b[49m\n\u001b[32m   1130\u001b[39m \u001b[43m    \u001b[49m\u001b[43m.\u001b[49m\u001b[43mvalue\u001b[49m\u001b[43m(\u001b[49m\u001b[43m)\u001b[49m\n\u001b[32m   1131\u001b[39m \u001b[43m    \u001b[49m\u001b[43m.\u001b[49m\u001b[43mcompute\u001b[49m\u001b[43m(\u001b[49m\u001b[43mbody\u001b[49m\u001b[43m=\u001b[49m\u001b[43mbody\u001b[49m\u001b[43m,\u001b[49m\u001b[43m \u001b[49m\u001b[43mproject\u001b[49m\u001b[43m=\u001b[49m\u001b[43m_get_projects_path\u001b[49m\u001b[43m(\u001b[49m\u001b[43m)\u001b[49m\u001b[43m,\u001b[49m\u001b[43m \u001b[49m\u001b[43mprettyPrint\u001b[49m\u001b[43m=\u001b[49m\u001b[38;5;28;43;01mFalse\u001b[39;49;00m\u001b[43m)\u001b[49m\n\u001b[32m   1132\u001b[39m \u001b[43m\u001b[49m\u001b[43m)\u001b[49m[\u001b[33m'\u001b[39m\u001b[33mresult\u001b[39m\u001b[33m'\u001b[39m]\n",
      "\u001b[36mFile \u001b[39m\u001b[32m~/.local/lib/python3.13/site-packages/ee/data.py:411\u001b[39m, in \u001b[36m_execute_cloud_call\u001b[39m\u001b[34m(call, num_retries)\u001b[39m\n\u001b[32m    409\u001b[39m   \u001b[38;5;28;01mreturn\u001b[39;00m call.execute(num_retries=num_retries)\n\u001b[32m    410\u001b[39m \u001b[38;5;28;01mexcept\u001b[39;00m googleapiclient.errors.HttpError \u001b[38;5;28;01mas\u001b[39;00m e:\n\u001b[32m--> \u001b[39m\u001b[32m411\u001b[39m   \u001b[38;5;28;01mraise\u001b[39;00m _translate_cloud_exception(e)\n",
      "\u001b[31mEEException\u001b[39m: Number.subtract: Parameter 'left' is required and may not be null."
     ]
    }
   ],
   "source": [
    "# Normalização min-max dentro da AOI (simples, só p/ proxy)\n",
    "def minmax(img_band, name):\n",
    "    stats = img_band.reduceRegion(\n",
    "        reducer=ee.Reducer.minMax(),\n",
    "        geometry=aoi, scale=10, maxPixels=1e9, bestEffort=True\n",
    "    )\n",
    "    mn = ee.Number(stats.get(name + '_min'))\n",
    "    mx = ee.Number(stats.get(name + '_max'))\n",
    "    # evita divisão por zero\n",
    "    norm = img_band.subtract(mn).divide(mx.subtract(mn).max(1e-6)).rename(name + '_norm')\n",
    "    return norm\n",
    "\n",
    "ndvi_norm = minmax(ndvi.rename('NDVI'), 'NDVI')\n",
    "ndre_norm = minmax(ndre.rename('NDRE'), 'NDRE')\n",
    "\n",
    "biomassa_proxy = ndvi_norm.add(ndre_norm).divide(2).rename('BIOMASSA_PROXY')  # 0..1\n",
    "biomassa_score = biomassa_proxy.multiply(100).rename('BIOMASSA_SCORE')        # 0..100\n",
    "\n",
    "# Estatística pra validar\n",
    "bio_stats = biomassa_score.reduceRegion(\n",
    "    reducer=ee.Reducer.minMax().combine(ee.Reducer.mean(), sharedInputs=True),\n",
    "    geometry=aoi, scale=10, maxPixels=1e9, bestEffort=True\n",
    ")\n",
    "print('BIOMASSA proxy stats:', bio_stats.getInfo())\n"
   ]
  },
  {
   "cell_type": "markdown",
   "id": "0ceef60a",
   "metadata": {},
   "source": [
    "### SIMULAÇÃO DO CÁLCULO DE NDVI ANTES E DEPOIS"
   ]
  },
  {
   "cell_type": "code",
   "execution_count": 51,
   "id": "541bea6c",
   "metadata": {},
   "outputs": [
    {
     "name": "stdout",
     "output_type": "stream",
     "text": [
      "ΔNDVI stats: {'DELTA_NDVI_max': 0.02848138701396956, 'DELTA_NDVI_mean': -0.0027159957620464317, 'DELTA_NDVI_min': -0.017188828870244865}\n"
     ]
    }
   ],
   "source": [
    "antes_start, antes_end   = '2024-05-01', '2024-05-31'\n",
    "depois_start, depois_end = '2024-10-01', '2024-10-31'\n",
    "\n",
    "def period_composite(start, end):\n",
    "    S2 = (ee.ImageCollection('COPERNICUS/S2_SR_HARMONIZED')\n",
    "          .filterDate(start, end)\n",
    "          .filterBounds(aoi)\n",
    "          .filter(ee.Filter.lte('CLOUDY_PIXEL_PERCENTAGE', 40)))\n",
    "    cleaned = S2.map(mask_s2_clouds)          # se quiser, depois acrescente a máscara SCL\n",
    "    comp = cleaned.median()                    # compósito temporal\n",
    "    return comp\n",
    "\n",
    "\n",
    "def mask_s2_clouds(image):\n",
    "    qa = image.select('QA60')\n",
    "    cloud_bit = 1 << 10\n",
    "    cirrus_bit = 1 << 11\n",
    "    mask = qa.bitwiseAnd(cloud_bit).eq(0).And(qa.bitwiseAnd(cirrus_bit).eq(0))\n",
    "    return image.updateMask(mask).copyProperties(image, ['system:time_start'])\n",
    "\n",
    "def ndvi_from(start, end):\n",
    "    img = period_composite(start, end)\n",
    "    nir = img.select('B8').toFloat().divide(10000)\n",
    "    red = img.select('B4').toFloat().divide(10000)\n",
    "    return nir.subtract(red).divide(nir.add(red)).rename('NDVI')\n",
    "\n",
    "\n",
    "ndvi_antes  = ndvi_from(antes_start, antes_end)\n",
    "ndvi_depois = ndvi_from(depois_start, depois_end)\n",
    "\n",
    "delta_ndvi = ndvi_depois.subtract(ndvi_antes).rename('DELTA_NDVI')  # depois - antes\n",
    "\n",
    "delta_stats = delta_ndvi.reduceRegion(\n",
    "    reducer=ee.Reducer.minMax().combine(ee.Reducer.mean(), sharedInputs=True),\n",
    "    geometry=aoi, scale=10, maxPixels=1e9, bestEffort=True\n",
    ")\n",
    "print('ΔNDVI stats:', delta_stats.getInfo())\n"
   ]
  },
  {
   "cell_type": "markdown",
   "id": "a3c6ba8e",
   "metadata": {},
   "source": [
    "### Gráfico simples que demonstra a mudança do NDVI nessa região\n",
    "\n",
    "\n"
   ]
  },
  {
   "cell_type": "code",
   "execution_count": 52,
   "id": "dd52e30c",
   "metadata": {},
   "outputs": [
    {
     "data": {
      "image/png": "[encoded data removed]",
      "text/plain": [
       "<Figure size 640x480 with 1 Axes>"
      ]
     },
     "metadata": {},
     "output_type": "display_data"
    }
   ],
   "source": [
    "import matplotlib.pyplot as plt\n",
    "\n",
    "# Extrai os valores médios de NDVI antes e depois\n",
    "stats_before = ndvi_antes.reduceRegion(\n",
    "    reducer=ee.Reducer.mean(),\n",
    "    geometry=aoi, scale=10, maxPixels=1e9, bestEffort=True\n",
    ").getInfo()\n",
    "\n",
    "stats_after = ndvi_depois.reduceRegion(\n",
    "    reducer=ee.Reducer.mean(),\n",
    "    geometry=aoi, scale=10, maxPixels=1e9, bestEffort=True\n",
    ").getInfo()\n",
    "\n",
    "mean_before = stats_before['NDVI']\n",
    "mean_after  = stats_after['NDVI']\n",
    "\n",
    "# Plot simples\n",
    "plt.bar(['Antes', 'Depois'], [mean_before, mean_after], color=['orange', 'green'])\n",
    "plt.ylabel('NDVI médio')\n",
    "plt.title('Mudança do NDVI na AOI')\n",
    "plt.grid(axis='y', linestyle='--', alpha=0.7)\n",
    "plt.show()\n"
   ]
  }
 ],
 "metadata": {
  "kernelspec": {
   "display_name": "Python (PyCaret 3.10)",
   "language": "python",
   "name": "pycaret310"
  },
  "language_info": {
   "codemirror_mode": {
    "name": "ipython",
    "version": 3
   },
   "file_extension": ".py",
   "mimetype": "text/x-python",
   "name": "python",
   "nbconvert_exporter": "python",
   "pygments_lexer": "ipython3",
   "version": "3.10.14"
  }
 },
 "nbformat": 4,
 "nbformat_minor": 5
}
